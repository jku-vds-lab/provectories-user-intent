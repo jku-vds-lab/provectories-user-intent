{
 "cells": [
  {
   "cell_type": "code",
   "execution_count": 1,
   "metadata": {},
   "outputs": [],
   "source": [
    "import numpy as np\n",
    "import json\n",
    "import pandas as pd\n",
    "from matplotlib import pyplot as plt\n",
    "import os"
   ]
  },
  {
   "cell_type": "code",
   "execution_count": 2,
   "metadata": {},
   "outputs": [],
   "source": [
    "from sensemakingspace.story import Story\n",
    "from sensemakingspace.stories import Stories"
   ]
  },
  {
   "cell_type": "code",
   "execution_count": 3,
   "metadata": {},
   "outputs": [],
   "source": [
    "with open('trrack-data/outlier_extracted.json', 'r') as f:\r\n",
    "    out_data = json.load(f)"
   ]
  },
  {
   "cell_type": "code",
   "execution_count": 4,
   "metadata": {},
   "outputs": [],
   "source": [
    "with open('trrack-data/cluster_extracted.json', 'r') as f:\r\n",
    "    other_data = json.load(f)"
   ]
  },
  {
   "cell_type": "markdown",
   "metadata": {},
   "source": [
    "Outlier Dict"
   ]
  },
  {
   "cell_type": "code",
   "execution_count": 5,
   "metadata": {},
   "outputs": [],
   "source": [
    "# outlier tasks\r\n",
    "task_dict_out = {\r\n",
    "    '23': 'out_easy_task_1',\r\n",
    "    '24': 'out_easy_task_2',\r\n",
    "    '25': 'out_easy_task_3',\r\n",
    "    '26': 'out_easy_task_4',\r\n",
    "    '27': 'out_easy_task_5',\r\n",
    "    '29': 'out_med_task_1',\r\n",
    "    '30': 'out_med_task_2',\r\n",
    "    '31': 'out_med_task_3',\r\n",
    "    '32': 'out_med_task_4',\r\n",
    "    '34': 'out_hard_training_1',\r\n",
    "    '35': 'out_hard_task_1',\r\n",
    "    '36': 'out_hard_task_2',\r\n",
    "    '37': 'out_hard_task_3',\r\n",
    "    '38': 'out_hard_task_4'\r\n",
    "}"
   ]
  },
  {
   "cell_type": "markdown",
   "metadata": {},
   "source": [
    "Cluster  Dict"
   ]
  },
  {
   "cell_type": "code",
   "execution_count": 6,
   "metadata": {},
   "outputs": [],
   "source": [
    "# # cluster tasks\r\n",
    "task_dict_cluster = {\r\n",
    "    '1': 'cluster_easy_task_1',\r\n",
    "    '2': 'cluster_easy_task_2',\r\n",
    "    '0': 'cluster_easy_training_1',\r\n",
    "    '7': 'cluster_hard_task_1',\r\n",
    "    '8': 'cluster_hard_task_2',\r\n",
    "    '6': 'cluster_hard_training_1',\r\n",
    "    '4': 'cluster_med_task_1',\r\n",
    "    '5': 'cluster_med_task_2'#,\r\n",
    "    #'3': 'cluster_med_training_1'\r\n",
    "}"
   ]
  },
  {
   "cell_type": "code",
   "execution_count": 7,
   "metadata": {},
   "outputs": [],
   "source": [
    "def ground_truth_story(dataset):\r\n",
    "    task_type = dataset.split('_')[0]\r\n",
    "    if task_type == 'cluster':\r\n",
    "        df = pd.read_csv(f'datasets/{dataset}_ground.csv')\r\n",
    "        label = df.columns[-1]\r\n",
    "        indices = df.index[df[label] == True].to_list()\r\n",
    "    elif task_type == 'out':\r\n",
    "        df = pd.read_csv(f'datasets/{dataset}.csv')\r\n",
    "        label = df.columns[-1]\r\n",
    "        indices = df.index[df[label] == 'Out'].to_list()\r\n",
    "    difficulty = dataset.split('_')[1]\r\n",
    "    if difficulty == 'med':\r\n",
    "        difficulty = 'medium'\r\n",
    "    story = Story(\r\n",
    "        f'{dataset}_ground_truth',\r\n",
    "        dataset,\r\n",
    "        {\r\n",
    "            'accuracy': 1.,\r\n",
    "            'dataset': dataset,\r\n",
    "            'difficulty': difficulty,\r\n",
    "            'training': True if dataset.split('_')[2] == 'training' else False,\r\n",
    "            'supported': False,\r\n",
    "            'autoCompleteUsed': False,\r\n",
    "            'rankOfPredictionUsed': -1,\r\n",
    "            'selectionSequence': [\r\n",
    "                {\r\n",
    "                    'timestamp': 0,\r\n",
    "                    'selection': indices,\r\n",
    "                    'turnedPrediction': None\r\n",
    "                }\r\n",
    "            ]\r\n",
    "        }\r\n",
    "    )\r\n",
    "    story.is_gt = True\r\n",
    "    return story"
   ]
  },
  {
   "cell_type": "markdown",
   "metadata": {},
   "source": [
    "All Stories"
   ]
  },
  {
   "cell_type": "code",
   "execution_count": 8,
   "metadata": {},
   "outputs": [
    {
     "name": "stderr",
     "output_type": "stream",
     "text": [
      "D:\\Dokumente\\Dissertation\\Code\\Python\\ptsne-pytorch\\env\\lib\\site-packages\\openTSNE\\nearest_neighbors.py:452: UserWarning: `pynndescent` has recently changed which distance metrics are supported, and `openTSNE.nearest_neighbors` has not been updated. Please notify the developers of this change.\n",
      "  \"`pynndescent` has recently changed which distance metrics are supported, \"\n",
      "D:\\Dokumente\\Dissertation\\Code\\Python\\ptsne-pytorch\\env\\lib\\site-packages\\scipy\\sparse\\_index.py:126: SparseEfficiencyWarning: Changing the sparsity structure of a csr_matrix is expensive. lil_matrix is more efficient.\n",
      "  self._set_arrayXarray(i, j, x)\n"
     ]
    }
   ],
   "source": [
    "outlier_stories = []\r\n",
    "for user in out_data:\r\n",
    "    for t in user['tasks']:\r\n",
    "        outlier_stories.append(Story(\r\n",
    "            user['id'],\r\n",
    "            task_dict_out[t],\r\n",
    "            user['tasks'][t]\r\n",
    "        ))\r\n",
    "for ds in list(task_dict_out.values()):\r\n",
    "    outlier_stories.append(ground_truth_story(ds))\r\n",
    "outlier_stories = Stories(outlier_stories)\r\n",
    "outlier_stories.project(delete_duplicates=True, verbose=False)\r\n",
    "outlier_stories.export_csv('pse-csv/trrack_stories_all-outlier.csv')"
   ]
  },
  {
   "cell_type": "code",
   "execution_count": 9,
   "metadata": {},
   "outputs": [
    {
     "name": "stderr",
     "output_type": "stream",
     "text": [
      "D:\\Dokumente\\Dissertation\\Code\\Python\\ptsne-pytorch\\env\\lib\\site-packages\\openTSNE\\nearest_neighbors.py:452: UserWarning: `pynndescent` has recently changed which distance metrics are supported, and `openTSNE.nearest_neighbors` has not been updated. Please notify the developers of this change.\n",
      "  \"`pynndescent` has recently changed which distance metrics are supported, \"\n",
      "D:\\Dokumente\\Dissertation\\Code\\Python\\ptsne-pytorch\\env\\lib\\site-packages\\scipy\\sparse\\_index.py:126: SparseEfficiencyWarning: Changing the sparsity structure of a csr_matrix is expensive. lil_matrix is more efficient.\n",
      "  self._set_arrayXarray(i, j, x)\n"
     ]
    }
   ],
   "source": [
    "cluster_stories = []\r\n",
    "for user in other_data:\r\n",
    "    for t in user['tasks']:\r\n",
    "        cluster_stories.append(Story(\r\n",
    "            user['id'],\r\n",
    "            task_dict_cluster[t],\r\n",
    "            user['tasks'][t]\r\n",
    "        ))\r\n",
    "for ds in list(task_dict_cluster.values()):\r\n",
    "    cluster_stories.append(ground_truth_story(ds))\r\n",
    "cluster_stories = Stories(cluster_stories)\r\n",
    "cluster_stories.project(delete_duplicates=True, verbose=False)\r\n",
    "cluster_stories.export_csv('pse-csv/trrack_stories_all-cluster.csv')"
   ]
  },
  {
   "cell_type": "code",
   "execution_count": 10,
   "metadata": {},
   "outputs": [
    {
     "name": "stderr",
     "output_type": "stream",
     "text": [
      "D:\\Dokumente\\Dissertation\\Code\\Python\\ptsne-pytorch\\env\\lib\\site-packages\\openTSNE\\nearest_neighbors.py:452: UserWarning: `pynndescent` has recently changed which distance metrics are supported, and `openTSNE.nearest_neighbors` has not been updated. Please notify the developers of this change.\n",
      "  \"`pynndescent` has recently changed which distance metrics are supported, \"\n",
      "D:\\Dokumente\\Dissertation\\Code\\Python\\ptsne-pytorch\\env\\lib\\site-packages\\scipy\\sparse\\_index.py:126: SparseEfficiencyWarning: Changing the sparsity structure of a csr_matrix is expensive. lil_matrix is more efficient.\n",
      "  self._set_arrayXarray(i, j, x)\n"
     ]
    }
   ],
   "source": [
    "all_stories = Stories(outlier_stories.stories + cluster_stories.stories)\r\n",
    "all_stories.project(delete_duplicates=True, verbose=False)\r\n",
    "all_stories.export_csv('pse-csv/trrack_stories_all.csv')"
   ]
  },
  {
   "cell_type": "markdown",
   "metadata": {},
   "source": [
    "Single Sessions"
   ]
  },
  {
   "cell_type": "code",
   "execution_count": 11,
   "metadata": {},
   "outputs": [],
   "source": [
    "for task_num in task_dict_cluster:\r\n",
    "    single_task_stories = []\r\n",
    "    for user in other_data:\r\n",
    "        if task_num in user['tasks']:\r\n",
    "            single_task_stories.append(Story(\r\n",
    "                user['id'],\r\n",
    "                task_dict_cluster[task_num],\r\n",
    "                user['tasks'][task_num]\r\n",
    "            ))\r\n",
    "    single_task_stories.append(ground_truth_story(task_dict_cluster[task_num]))\r\n",
    "    single_task_stories = Stories(single_task_stories)\r\n",
    "\r\n",
    "    single_task_stories.project(delete_duplicates=True, verbose=False)\r\n",
    "    single_task_stories.export_csv('pse-csv/trrack_stories_task-cluster-{}.csv'.format(task_num))"
   ]
  },
  {
   "cell_type": "code",
   "execution_count": 12,
   "metadata": {},
   "outputs": [],
   "source": [
    "for task_num in task_dict_out:\r\n",
    "    single_task_stories = []\r\n",
    "    for user in out_data:\r\n",
    "        if task_num in user['tasks']:\r\n",
    "            single_task_stories.append(Story(\r\n",
    "                user['id'],\r\n",
    "                task_dict_out[task_num],\r\n",
    "                user['tasks'][task_num]\r\n",
    "            ))\r\n",
    "    single_task_stories.append(ground_truth_story(task_dict_out[task_num]))\r\n",
    "    single_task_stories = Stories(single_task_stories)\r\n",
    "\r\n",
    "    single_task_stories.project(delete_duplicates=True, verbose=False)\r\n",
    "    single_task_stories.export_csv('pse-csv/trrack_stories_task-outlier-{}.csv'.format(task_num))"
   ]
  },
  {
   "cell_type": "markdown",
   "metadata": {},
   "source": [
    "Single User Session for single task"
   ]
  },
  {
   "cell_type": "code",
   "execution_count": 15,
   "metadata": {},
   "outputs": [
    {
     "name": "stderr",
     "output_type": "stream",
     "text": [
      "Perplexity value 30 is too high. Using perplexity 1.67 instead\n"
     ]
    }
   ],
   "source": [
    "# task_num = '8'\r\n",
    "# user_id = '5d6927928a415c00194dfb6f'\r\n",
    "# task_type = 'cluster'\r\n",
    "\r\n",
    "# task_num = '26'\r\n",
    "# user_id = '5bbc3d95f1f9ba000141d855'\r\n",
    "# task_type = 'outlier'\r\n",
    "\r\n",
    "task_num = '32'\r\n",
    "user_id = '5d02ed8f7a3c0f0015cd3230'\r\n",
    "task_type = 'outlier'\r\n",
    "\r\n",
    "datasubset = out_data if task_type == 'outlier' else other_data\r\n",
    "task_dict = {'cluster': task_dict_cluster, 'outlier': task_dict_out}[task_type]\r\n",
    "single_user_story = []\r\n",
    "for user in datasubset:\r\n",
    "    if user['id'] == user_id and task_num in user['tasks']:\r\n",
    "        # print(user['tasks'][task_num])\r\n",
    "        single_user_story.append(Story(\r\n",
    "            user['id'],\r\n",
    "            task_dict[task_num],\r\n",
    "            user['tasks'][task_num]\r\n",
    "        ))\r\n",
    "single_user_story.append(ground_truth_story(task_dict[task_num]))\r\n",
    "single_user_story = Stories(single_user_story)\r\n",
    "single_user_story.project(delete_duplicates=True, verbose=False)\r\n",
    "single_user_story.export_csv('pse-csv/trrack_stories_task-{task_type}-{task_num}-{user_id}.csv'.format(\r\n",
    "    task_type=task_type,\r\n",
    "    task_num=task_num,\r\n",
    "    user_id=user_id))"
   ]
  },
  {
   "cell_type": "code",
   "execution_count": null,
   "metadata": {},
   "outputs": [],
   "source": []
  }
 ],
 "metadata": {
  "interpreter": {
   "hash": "7b28ae10d83720f36e64a475947a69598f522ce7ea0d14cd27597289d37d6b09"
  },
  "kernelspec": {
   "display_name": "Python 3.7.7 64-bit (conda)",
   "name": "python3"
  },
  "language_info": {
   "codemirror_mode": {
    "name": "ipython",
    "version": 3
   },
   "file_extension": ".py",
   "mimetype": "text/x-python",
   "name": "python",
   "nbconvert_exporter": "python",
   "pygments_lexer": "ipython3",
   "version": "3.7.7"
  },
  "orig_nbformat": 2
 },
 "nbformat": 4,
 "nbformat_minor": 2
}