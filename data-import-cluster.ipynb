{
 "metadata": {
  "language_info": {
   "codemirror_mode": {
    "name": "ipython",
    "version": 3
   },
   "file_extension": ".py",
   "mimetype": "text/x-python",
   "name": "python",
   "nbconvert_exporter": "python",
   "pygments_lexer": "ipython3",
   "version": "3.8.6"
  },
  "orig_nbformat": 2,
  "kernelspec": {
   "name": "python3",
   "display_name": "Python 3.8.6 64-bit ('xai_proj_space': conda)"
  },
  "interpreter": {
   "hash": "64f8add4f2efaad46cd0f226b6e29ee9c79755cf2727dd293d531efe9419c122"
  }
 },
 "nbformat": 4,
 "nbformat_minor": 2,
 "cells": [
  {
   "cell_type": "code",
   "execution_count": 1,
   "metadata": {},
   "outputs": [],
   "source": [
    "import firebase_admin\n",
    "from firebase_admin import credentials, db\n",
    "import json"
   ]
  },
  {
   "cell_type": "code",
   "execution_count": 2,
   "metadata": {},
   "outputs": [],
   "source": [
    "mainDatabase = 'https://intent-system-prolific.firebaseio.com/'\n",
    "graphDatabase = 'https://task-provenance-database.firebaseio.com/'"
   ]
  },
  {
   "cell_type": "code",
   "execution_count": 3,
   "metadata": {},
   "outputs": [],
   "source": [
    "cred = credentials.Certificate(\"intent-system-prolific-firebase-adminsdk-2kz20-2819511b33.json\")\n",
    "firebase_admin.initialize_app(cred,{\n",
    "            'databaseURL': mainDatabase\n",
    "        })\n",
    "graph_global = firebase_admin.initialize_app(cred, {\n",
    "            'databaseURL': graphDatabase\n",
    "        },name=\"GraphDB\")"
   ]
  },
  {
   "cell_type": "code",
   "execution_count": 4,
   "metadata": {},
   "outputs": [],
   "source": [
    "# Helper functions \n",
    "def getFromMainDB(path):\n",
    "  return db.reference(path).get()\n",
    "\n",
    "def getFromGraphDB(path):\n",
    "  return db.reference(path, graph_global).get()"
   ]
  },
  {
   "cell_type": "code",
   "execution_count": 5,
   "metadata": {},
   "outputs": [],
   "source": [
    "with open('trrack-data/study_results_main.json') as f:\n",
    "    prov = json.load(f)"
   ]
  },
  {
   "cell_type": "code",
   "execution_count": 6,
   "metadata": {},
   "outputs": [],
   "source": [
    "def getStateSequence(path):\n",
    "    data = getFromGraphDB(path)\n",
    "    root = data['root']\n",
    "    states = []\n",
    "    states.append(data['nodes'][root])\n",
    "    while states[-1].get('children'):\n",
    "        child = states[-1]['children'][0]\n",
    "        states.append(data['nodes'][child])\n",
    "    return states"
   ]
  },
  {
   "cell_type": "code",
   "execution_count": 16,
   "metadata": {},
   "outputs": [],
   "source": [
    "def cleanStateSequence(nodes):\n",
    "    clean_states = []\n",
    "    for node in nodes:\n",
    "        if node.get('state'):\n",
    "            if node['state'].get('plots'):\n",
    "                if node['state']['plots'] != []:\n",
    "                    state = {}\n",
    "                    # if  node['label'] == 'Add plot: X - Y':\n",
    "                    if  node['label'] == 'Add plot for X - Y':\n",
    "                        state['timestamp'] = node['metadata']['createdOn']\n",
    "                        state['selection'] = []\n",
    "                        state['turnedPrediction'] = None\n",
    "                        clean_states.append(state)\n",
    "                    elif node['state']['plots'][0].get('selectedPoints'):\n",
    "                        state['timestamp'] = node['metadata']['createdOn']\n",
    "                        state['selection'] = node['state']['plots'][0]['selectedPoints']\n",
    "                        state['turnedPrediction'] = node['state'].get('turnedPrediction')\n",
    "                        clean_states.append(state)\n",
    "    return clean_states"
   ]
  },
  {
   "cell_type": "code",
   "execution_count": 17,
   "metadata": {},
   "outputs": [],
   "source": [
    "extractedData = []\n",
    "for participant in prov:\n",
    "    data = {}\n",
    "    data['id'] = participant['data']['participantId']\n",
    "    data['taskIds'] = list(participant['data']['tasks'].keys())\n",
    "    data['tasks'] = {}\n",
    "    for task in data['taskIds']:\n",
    "        taskdata = participant['data']['tasks'][task]\n",
    "        path = taskdata['graph']\n",
    "        if taskdata['type'] == 'cluster':\n",
    "            data['tasks'][task] = {}\n",
    "            data['tasks'][task]['accuracy'] = taskdata['accuracy']\n",
    "            data['tasks'][task]['dataset'] = taskdata['dataset']\n",
    "            data['tasks'][task]['difficulty'] = taskdata['difficulty']\n",
    "            data['tasks'][task]['training'] = False if taskdata['training'] == 'no' else True\n",
    "            data['tasks'][task]['supported'] = True if taskdata['user-driven'] == 'supported' else False\n",
    "            data['tasks'][task]['autoCompleteUsed'] = taskdata['interactionDetails']['autoCompleteUsed']\n",
    "            data['tasks'][task]['rankOfPredictionUsed'] = taskdata['interactionDetails']['rankOfPredictionUsed']\n",
    "            data['tasks'][task]['selectionSequence'] = cleanStateSequence(getStateSequence(path))\n",
    "    extractedData.append(data)"
   ]
  },
  {
   "cell_type": "code",
   "execution_count": 19,
   "metadata": {},
   "outputs": [
    {
     "output_type": "execute_result",
     "data": {
      "text/plain": [
       "128"
      ]
     },
     "metadata": {},
     "execution_count": 19
    }
   ],
   "source": [
    "len(extractedData)"
   ]
  },
  {
   "cell_type": "code",
   "execution_count": 20,
   "metadata": {},
   "outputs": [],
   "source": [
    "times = [ s['timestamp'] for s in extractedData[0]['tasks']['8']['selectionSequence'] ]\n",
    "# times"
   ]
  },
  {
   "cell_type": "code",
   "execution_count": 21,
   "metadata": {},
   "outputs": [],
   "source": [
    "selections = [ s['selection'] for s in extractedData[0]['tasks']['8']['selectionSequence'] ]"
   ]
  },
  {
   "cell_type": "code",
   "execution_count": 22,
   "metadata": {},
   "outputs": [],
   "source": [
    "import numpy as np"
   ]
  },
  {
   "cell_type": "code",
   "execution_count": 23,
   "metadata": {},
   "outputs": [],
   "source": [
    "with open('trrack-data/cluster_extracted_ground.json', 'w+') as f:\n",
    "    json.dump(extractedData, f)"
   ]
  }
 ]
}